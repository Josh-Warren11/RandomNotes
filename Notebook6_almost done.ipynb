{
  "nbformat": 4,
  "nbformat_minor": 0,
  "metadata": {
    "colab": {
      "name": "Notebook6_starter.ipynb",
      "provenance": [],
      "include_colab_link": true
    },
    "kernelspec": {
      "name": "python3",
      "display_name": "Python 3"
    },
    "language_info": {
      "name": "python"
    },
    "accelerator": "GPU"
  },
  "cells": [
    {
      "cell_type": "markdown",
      "metadata": {
        "id": "view-in-github",
        "colab_type": "text"
      },
      "source": [
        "<a href=\"https://colab.research.google.com/github/Josh-Warren11/RandomNotes/blob/main/Notebook6_almost%20done.ipynb\" target=\"_parent\"><img src=\"https://colab.research.google.com/assets/colab-badge.svg\" alt=\"Open In Colab\"/></a>"
      ]
    },
    {
      "cell_type": "markdown",
      "metadata": {
        "id": "XHNyMbAY0QB5"
      },
      "source": [
        "# Notebook \\# 6\n",
        "Name:\n",
        "Date:\n",
        "\n",
        "## Problem Description:\n",
        "\n",
        "\n",
        "\n",
        "### Hints/ Tips Tricks\n",
        "- Don't forget to enable GPUs under 'Edit', 'Notebook Settings', 'Accerlate Hardware', 'GPU'.\n",
        "- Make sure you unzip the data and put it in your Drive.\n"
      ]
    },
    {
      "cell_type": "code",
      "metadata": {
        "id": "9TyLjTVU0MQr",
        "colab": {
          "base_uri": "https://localhost:8080/"
        },
        "outputId": "509cf2ed-f625-48b4-80f9-9360b31a6c03"
      },
      "source": [
        "import keras\n",
        "import tensorflow \n",
        "import sys\n",
        "from matplotlib import pyplot\n",
        "from tensorflow.keras.utils import to_categorical\n",
        "from keras.models import Sequential\n",
        "from keras.layers import Conv2D\n",
        "from keras.layers import MaxPooling2D\n",
        "from keras.layers import Dense\n",
        "from keras.layers import Flatten\n",
        "from tensorflow.keras.optimizers import SGD\n",
        "from keras.preprocessing.image import ImageDataGenerator\n",
        "import sys\n",
        "\n",
        "## Connect to Drive\n",
        "from google.colab import drive\n",
        "import pandas\n",
        "drive.mount('/content/drive')\n",
        "\n",
        "## Image dimensions\n",
        "img_width = 200\n",
        "img_height = 200\n",
        "\n",
        "## Directories for testing and training data\n",
        "train_data_dir = '/content/drive/MyDrive/CS167/datasets/chest_xray.zip (Unzipped Files)/chest_xray/train' \n",
        "test_data_dir = '/content/drive/MyDrive/CS167/datasets/chest_xray.zip (Unzipped Files)/chest_xray/test'\n",
        "\n",
        "## To feed the training images to the neural network in batches of 32 images at a time\n",
        "batch_size = 32\n",
        "\n",
        "## Rescale pixel values from [0, 255] to between 0 and 1\n",
        "datagen = ImageDataGenerator(rescale=1.0/255.0)\n",
        "\n",
        "## Look for training and testing data and figure out the class of each example based on subfolder\n",
        "train_data = datagen.flow_from_directory(\n",
        "        train_data_dir,\n",
        "        target_size=(img_width, img_height),\n",
        "        batch_size=batch_size,\n",
        "        class_mode='binary')\n",
        "\n",
        "test_data = datagen.flow_from_directory(\n",
        "        test_data_dir,\n",
        "        target_size=(img_width, img_height),\n",
        "        batch_size=batch_size,\n",
        "        class_mode='binary')"
      ],
      "execution_count": 5,
      "outputs": [
        {
          "output_type": "stream",
          "name": "stdout",
          "text": [
            "Drive already mounted at /content/drive; to attempt to forcibly remount, call drive.mount(\"/content/drive\", force_remount=True).\n",
            "Found 5216 images belonging to 2 classes.\n",
            "Found 624 images belonging to 2 classes.\n"
          ]
        }
      ]
    },
    {
      "cell_type": "code",
      "metadata": {
        "id": "t_i-Cfa41ZvU",
        "colab": {
          "base_uri": "https://localhost:8080/"
        },
        "outputId": "32e0fda7-c2d1-4eb8-87c8-fb6836812b72"
      },
      "source": [
        "# Conv Layer 1\n",
        "model1 = Sequential()\n",
        "model1.add(Conv2D(32, (3, 3), activation = 'relu', input_shape=(img_width, img_height, 3)))\n",
        "model1.add(MaxPooling2D(pool_size=(2,2)))\n",
        "\n",
        "model1.add(Conv2D(32, (3, 3), activation = 'relu'))\n",
        "model1.add(MaxPooling2D(pool_size=(2,2)))\n",
        "\n",
        "model1.add(Flatten()) \n",
        "model1.add(Dense(64,activation= 'relu')) \n",
        "model1.add(Dense(1,activation='sigmoid'))\n",
        "\n",
        "opt = SGD(lr=0.001, momentum=0.9)\n",
        "model1.compile(optimizer=opt, loss='binary_crossentropy', metrics=['accuracy'])\n",
        "\n",
        "training_results = model1.fit_generator(\n",
        "        train_data, \n",
        "        steps_per_epoch = len(train_data), \n",
        "        epochs=5,\n",
        "        validation_data = test_data,\n",
        "        validation_steps = len(test_data)\n",
        "        )\n"
      ],
      "execution_count": 26,
      "outputs": [
        {
          "output_type": "stream",
          "name": "stdout",
          "text": [
            "Epoch 1/5\n",
            "163/163 [==============================] - 21s 126ms/step - loss: 0.3804 - accuracy: 0.8299 - val_loss: 0.7910 - val_accuracy: 0.6603\n",
            "Epoch 2/5\n",
            "163/163 [==============================] - 20s 125ms/step - loss: 0.2266 - accuracy: 0.9086 - val_loss: 0.5929 - val_accuracy: 0.7532\n",
            "Epoch 3/5\n",
            "163/163 [==============================] - 20s 124ms/step - loss: 0.1559 - accuracy: 0.9383 - val_loss: 0.8186 - val_accuracy: 0.7260\n",
            "Epoch 4/5\n",
            "163/163 [==============================] - 20s 125ms/step - loss: 0.1323 - accuracy: 0.9500 - val_loss: 0.5418 - val_accuracy: 0.7917\n",
            "Epoch 5/5\n",
            "163/163 [==============================] - 20s 125ms/step - loss: 0.1265 - accuracy: 0.9530 - val_loss: 0.6802 - val_accuracy: 0.7692\n"
          ]
        }
      ]
    },
    {
      "cell_type": "code",
      "metadata": {
        "id": "PDdYDSipY5xf",
        "outputId": "18d0bf14-71e9-4ef1-c464-b5fbcc39ad58",
        "colab": {
          "base_uri": "https://localhost:8080/",
          "height": 295
        }
      },
      "source": [
        "import matplotlib.pyplot as plt\n",
        "%matplotlib inline\n",
        "plt.plot(training_results.history['accuracy'])\n",
        "plt.plot(training_results.history['val_accuracy'])\n",
        "plt.title('model accuracy')\n",
        "plt.ylabel('accuracy')\n",
        "plt.xlabel('epoch')\n",
        "plt.legend(['train', 'test'], loc='upper left')\n",
        "plt.show()"
      ],
      "execution_count": 23,
      "outputs": [
        {
          "output_type": "display_data",
          "data": {
            "image/png": "[encoded data removed]",
            "text/plain": [
              "<Figure size 432x288 with 1 Axes>"
            ]
          },
          "metadata": {
            "needs_background": "light"
          }
        }
      ]
    },
    {
      "cell_type": "code",
      "metadata": {
        "id": "dx1xPbKDSisb",
        "outputId": "03aa43d6-58bc-430f-8247-7c2aa67528ff",
        "colab": {
          "base_uri": "https://localhost:8080/"
        }
      },
      "source": [
        "#Tuned CNN\n",
        "model2 = Sequential()\n",
        "model2.add(Conv2D(32, (3, 3), activation = 'relu', input_shape=(img_width, img_height, 3)))\n",
        "model2.add(MaxPooling2D(pool_size=(2,2)))\n",
        "\n",
        "model2.add(Conv2D(32, (3, 3), activation = 'relu'))\n",
        "model2.add(MaxPooling2D(pool_size=(2,2)))\n",
        "\n",
        "model2.add(Flatten()) \n",
        "#lowered the density number\n",
        "model2.add(Dense(32,activation= 'relu')) \n",
        "model2.add(Dense(1,activation='sigmoid'))\n",
        "\n",
        "#lowered the momentum\n",
        "opt = SGD(lr=0.001, momentum=0.8)\n",
        "model2.compile(optimizer=opt, loss='binary_crossentropy', metrics=['accuracy'])\n",
        "\n",
        "training_results2 = model2.fit_generator(\n",
        "        train_data, \n",
        "        steps_per_epoch = len(train_data), \n",
        "        epochs=5,\n",
        "        validation_data = test_data,\n",
        "        validation_steps = len(test_data)\n",
        "        )"
      ],
      "execution_count": 24,
      "outputs": [
        {
          "output_type": "stream",
          "name": "stdout",
          "text": [
            "Epoch 1/5\n",
            "163/163 [==============================] - 21s 125ms/step - loss: 0.5016 - accuracy: 0.7567 - val_loss: 0.4733 - val_accuracy: 0.7821\n",
            "Epoch 2/5\n",
            "163/163 [==============================] - 20s 125ms/step - loss: 0.2533 - accuracy: 0.9015 - val_loss: 0.5649 - val_accuracy: 0.7452\n",
            "Epoch 3/5\n",
            "163/163 [==============================] - 20s 124ms/step - loss: 0.1841 - accuracy: 0.9293 - val_loss: 0.7319 - val_accuracy: 0.7228\n",
            "Epoch 4/5\n",
            "163/163 [==============================] - 20s 123ms/step - loss: 0.1575 - accuracy: 0.9390 - val_loss: 0.8293 - val_accuracy: 0.7292\n",
            "Epoch 5/5\n",
            "163/163 [==============================] - 20s 122ms/step - loss: 0.1546 - accuracy: 0.9406 - val_loss: 0.8793 - val_accuracy: 0.7276\n"
          ]
        }
      ]
    },
    {
      "cell_type": "code",
      "metadata": {
        "id": "pbWA_5SdZHuZ",
        "outputId": "676b064f-8906-4db9-a034-f63133e75110",
        "colab": {
          "base_uri": "https://localhost:8080/",
          "height": 295
        }
      },
      "source": [
        "import matplotlib.pyplot as plt\n",
        "%matplotlib inline\n",
        "plt.plot(training_results2.history['accuracy'])\n",
        "plt.plot(training_results2.history['val_accuracy'])\n",
        "plt.title('model accuracy')\n",
        "plt.ylabel('accuracy')\n",
        "plt.xlabel('epoch')\n",
        "plt.legend(['train', 'test'], loc='upper left')\n",
        "plt.show()"
      ],
      "execution_count": 25,
      "outputs": [
        {
          "output_type": "display_data",
          "data": {
            "image/png": "[encoded data removed]",
            "text/plain": [
              "<Figure size 432x288 with 1 Axes>"
            ]
          },
          "metadata": {
            "needs_background": "light"
          }
        }
      ]
    }
  ]
}