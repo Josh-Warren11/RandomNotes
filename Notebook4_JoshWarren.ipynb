{
  "nbformat": 4,
  "nbformat_minor": 0,
  "metadata": {
    "colab": {
      "name": "Notebook4_starter.ipynb",
      "provenance": [],
      "include_colab_link": true
    },
    "kernelspec": {
      "name": "python3",
      "display_name": "Python 3"
    },
    "language_info": {
      "name": "python"
    }
  },
  "cells": [
    {
      "cell_type": "markdown",
      "metadata": {
        "id": "view-in-github",
        "colab_type": "text"
      },
      "source": [
        "<a href=\"https://colab.research.google.com/github/Josh-Warren11/RandomNotes/blob/main/Notebook4_JoshWarren.ipynb\" target=\"_parent\"><img src=\"https://colab.research.google.com/assets/colab-badge.svg\" alt=\"Open In Colab\"/></a>"
      ]
    },
    {
      "cell_type": "markdown",
      "metadata": {
        "id": "G04Rsb8TOYv1"
      },
      "source": [
        "# Notebook \\#4\n",
        "\n",
        "## Part 1:\n",
        "**1.) Using scikit learn (sklearn)** You must run at least 6 variations of the algorithms and display their results using an appropriate regression metric (again, use the scikit-learn modules). I will be looking for the following to be included in your comparison:\n",
        "\n",
        "*   k-Nearest-Neighbor with a **small value of k**\n",
        "*   k-Nearest-Neighbor with a **large value of k**\n",
        "*   **weighted k-Nearest-Neighbor** with a **small value of k** (the same one you used for the unweighted version)\n",
        "*  **weighted k-Nearest-Neighbor** with a **large value of k** (the same one you used for the unweighted version) \n",
        "*   a **decision tree with default** parameter values\n",
        "*   a **decision tree**, setting some kind of parameter that results in a **smaller tree**\n",
        "\n",
        "You will need to use the documentation for sklearn for this Notebook. Here are some helpful links:\n",
        "* [K Neighbors Regressor](https://scikit-learn.org/stable/modules/generated/sklearn.neighbors.KNeighborsRegressor.html)\n",
        "* [Decision Tree Regressor](https://scikit-learn.org/stable/modules/generated/sklearn.tree.DecisionTreeRegressor.html) \n"
      ]
    },
    {
      "cell_type": "code",
      "metadata": {
        "id": "fWJ8-XD8OzPx",
        "outputId": "fa2f5498-12e7-4b44-e1a1-251dad52fe7b",
        "colab": {
          "base_uri": "https://localhost:8080/"
        }
      },
      "source": [
        "# load in the data and necessary libraries\n",
        "import sklearn\n",
        "import pandas\n",
        "from sklearn import tree\n",
        "from sklearn.model_selection import train_test_split\n",
        "from sklearn import metrics\n",
        "from sklearn import neighbors\n",
        "from sklearn.preprocessing import StandardScaler\n",
        "\n",
        "from google.colab import drive\n",
        "drive.mount('/content/drive')\n",
        "wine = pandas.read_csv('/content/drive/MyDrive/CS167/datasets/winequality-white.csv') # change this to match your dataset directory"
      ],
      "execution_count": 3,
      "outputs": [
        {
          "output_type": "stream",
          "name": "stdout",
          "text": [
            "Drive already mounted at /content/drive; to attempt to forcibly remount, call drive.mount(\"/content/drive\", force_remount=True).\n"
          ]
        }
      ]
    },
    {
      "cell_type": "code",
      "metadata": {
        "id": "JUXFQFUvzoCl",
        "outputId": "e21c83c9-bd8c-49a1-f36f-827ce510733c",
        "colab": {
          "base_uri": "https://localhost:8080/",
          "height": 423
        }
      },
      "source": [
        "predictors = ['fixed acidity', 'volatile acidity','citric acid', 'residual sugar', 'chlorides', 'free sulfur dioxide','total sulfur dioxide', 'density', 'pH', 'sulphates','alcohol']\n",
        "target = ['quality']\n",
        "train_data, test_data, train_sln, test_sln = \\\n",
        "        train_test_split(wine[predictors], wine[target], test_size = 0.2, random_state=20)\n",
        "train_sln"
      ],
      "execution_count": 20,
      "outputs": [
        {
          "output_type": "execute_result",
          "data": {
            "text/html": [
              "<div>\n",
              "<style scoped>\n",
              "    .dataframe tbody tr th:only-of-type {\n",
              "        vertical-align: middle;\n",
              "    }\n",
              "\n",
              "    .dataframe tbody tr th {\n",
              "        vertical-align: top;\n",
              "    }\n",
              "\n",
              "    .dataframe thead th {\n",
              "        text-align: right;\n",
              "    }\n",
              "</style>\n",
              "<table border=\"1\" class=\"dataframe\">\n",
              "  <thead>\n",
              "    <tr style=\"text-align: right;\">\n",
              "      <th></th>\n",
              "      <th>quality</th>\n",
              "    </tr>\n",
              "  </thead>\n",
              "  <tbody>\n",
              "    <tr>\n",
              "      <th>605</th>\n",
              "      <td>6</td>\n",
              "    </tr>\n",
              "    <tr>\n",
              "      <th>392</th>\n",
              "      <td>5</td>\n",
              "    </tr>\n",
              "    <tr>\n",
              "      <th>849</th>\n",
              "      <td>5</td>\n",
              "    </tr>\n",
              "    <tr>\n",
              "      <th>1418</th>\n",
              "      <td>5</td>\n",
              "    </tr>\n",
              "    <tr>\n",
              "      <th>459</th>\n",
              "      <td>3</td>\n",
              "    </tr>\n",
              "    <tr>\n",
              "      <th>...</th>\n",
              "      <td>...</td>\n",
              "    </tr>\n",
              "    <tr>\n",
              "      <th>924</th>\n",
              "      <td>5</td>\n",
              "    </tr>\n",
              "    <tr>\n",
              "      <th>1247</th>\n",
              "      <td>5</td>\n",
              "    </tr>\n",
              "    <tr>\n",
              "      <th>271</th>\n",
              "      <td>6</td>\n",
              "    </tr>\n",
              "    <tr>\n",
              "      <th>474</th>\n",
              "      <td>6</td>\n",
              "    </tr>\n",
              "    <tr>\n",
              "      <th>1379</th>\n",
              "      <td>6</td>\n",
              "    </tr>\n",
              "  </tbody>\n",
              "</table>\n",
              "<p>1279 rows × 1 columns</p>\n",
              "</div>"
            ],
            "text/plain": [
              "      quality\n",
              "605         6\n",
              "392         5\n",
              "849         5\n",
              "1418        5\n",
              "459         3\n",
              "...       ...\n",
              "924         5\n",
              "1247        5\n",
              "271         6\n",
              "474         6\n",
              "1379        6\n",
              "\n",
              "[1279 rows x 1 columns]"
            ]
          },
          "metadata": {},
          "execution_count": 20
        }
      ]
    },
    {
      "cell_type": "code",
      "metadata": {
        "id": "E9i5I43C2nty",
        "outputId": "30fe15be-d5bb-4da8-d411-ba6aa96ecbf5",
        "colab": {
          "base_uri": "https://localhost:8080/"
        }
      },
      "source": [
        "print('train_data shape: ',train_data.shape)\n",
        "print('test_data shape: ',test_data.shape)\n",
        "print('train_sln shape: ',train_sln.shape)\n",
        "print('test_sln shape: ',test_sln.shape)"
      ],
      "execution_count": 21,
      "outputs": [
        {
          "output_type": "stream",
          "name": "stdout",
          "text": [
            "train_data shape:  (1279, 11)\n",
            "test_data shape:  (320, 11)\n",
            "train_sln shape:  (1279, 1)\n",
            "test_sln shape:  (320, 1)\n"
          ]
        }
      ]
    },
    {
      "cell_type": "code",
      "metadata": {
        "id": "MpuWbT-NOUx8",
        "outputId": "8352aa08-7c40-4753-944f-7a0280fdfc68",
        "colab": {
          "base_uri": "https://localhost:8080/"
        }
      },
      "source": [
        "# kNN with small k\n",
        "from sklearn.neighbors import KNeighborsRegressor\n",
        "knn1 = KNeighborsRegressor(n_neighbors = 3)\n",
        "knn1.fit(train_data, train_sln)\n",
        "prediction = knn1.predict(test_data)\n",
        "from sklearn.metrics import mean_squared_error\n",
        "mean_squared_error(test_sln, prediction)"
      ],
      "execution_count": 22,
      "outputs": [
        {
          "output_type": "execute_result",
          "data": {
            "text/plain": [
              "0.5163194444444444"
            ]
          },
          "metadata": {},
          "execution_count": 22
        }
      ]
    },
    {
      "cell_type": "code",
      "metadata": {
        "id": "o1q07BzTOjnE",
        "outputId": "25bb93f4-8b54-4f3d-9006-99697afd525d",
        "colab": {
          "base_uri": "https://localhost:8080/"
        }
      },
      "source": [
        "# kNN with large k\n",
        "from sklearn.neighbors import KNeighborsRegressor\n",
        "knn2 = KNeighborsRegressor(n_neighbors = 15)\n",
        "knn2.fit(train_data, train_sln)\n",
        "prediction = knn2.predict(test_data)\n",
        "from sklearn.metrics import mean_squared_error\n",
        "mean_squared_error(test_sln, prediction)"
      ],
      "execution_count": 23,
      "outputs": [
        {
          "output_type": "execute_result",
          "data": {
            "text/plain": [
              "0.5149166666666667"
            ]
          },
          "metadata": {},
          "execution_count": 23
        }
      ]
    },
    {
      "cell_type": "code",
      "metadata": {
        "id": "m0Wc76gfOnQL",
        "outputId": "cf4dc1f3-e51f-4dee-d4b2-ae0866f572ec",
        "colab": {
          "base_uri": "https://localhost:8080/"
        }
      },
      "source": [
        "# w-knn with small k\n",
        "from sklearn.neighbors import KNeighborsRegressor\n",
        "knn3 = KNeighborsRegressor(n_neighbors = 3, weights='distance')\n",
        "knn3.fit(train_data, train_sln)\n",
        "prediction = knn3.predict(test_data)\n",
        "from sklearn.metrics import mean_squared_error\n",
        "mean_squared_error(test_sln, prediction)"
      ],
      "execution_count": 24,
      "outputs": [
        {
          "output_type": "execute_result",
          "data": {
            "text/plain": [
              "0.4584128585464352"
            ]
          },
          "metadata": {},
          "execution_count": 24
        }
      ]
    },
    {
      "cell_type": "code",
      "metadata": {
        "id": "k5rFt9wkOqKF",
        "outputId": "01ea1bf3-41be-4f5a-fead-b99a1a448daa",
        "colab": {
          "base_uri": "https://localhost:8080/"
        }
      },
      "source": [
        "# w-knn with large k\n",
        "from sklearn.neighbors import KNeighborsRegressor\n",
        "knn4 = KNeighborsRegressor(n_neighbors = 15, weights='distance')\n",
        "knn4.fit(train_data, train_sln)\n",
        "prediction = knn4.predict(test_data)\n",
        "from sklearn.metrics import mean_squared_error\n",
        "mean_squared_error(test_sln, prediction)"
      ],
      "execution_count": 25,
      "outputs": [
        {
          "output_type": "execute_result",
          "data": {
            "text/plain": [
              "0.4259770045083974"
            ]
          },
          "metadata": {},
          "execution_count": 25
        }
      ]
    },
    {
      "cell_type": "code",
      "metadata": {
        "id": "S5kncBKlOrhc",
        "outputId": "a9ea323f-1658-4713-fc92-a01cfa66072f",
        "colab": {
          "base_uri": "https://localhost:8080/",
          "height": 1000
        }
      },
      "source": [
        "# decision tree with default paramters\n",
        "from sklearn.tree import DecisionTreeRegressor\n",
        "from sklearn import tree\n",
        "regular = tree.DecisionTreeRegressor(random_state=10)\n",
        "regular = regular.fit(test_data, test_sln)\n",
        "tree.plot_tree(regular)"
      ],
      "execution_count": 26,
      "outputs": [
        {
          "output_type": "execute_result",
          "data": {
            "text/plain": [
              "[Text(151.92035300136425, 209.6742857142857, 'X[10] <= 10.15\\nmse = 0.589\\nsamples = 320\\nvalue = 5.691'),\n",
              " Text(64.1738062755798, 194.14285714285714, 'X[9] <= 0.555\\nmse = 0.356\\nsamples = 158\\nvalue = 5.316'),\n",
              " Text(23.751159618008188, 178.61142857142858, 'X[1] <= 0.95\\nmse = 0.294\\nsamples = 51\\nvalue = 5.02'),\n",
              " Text(14.616098226466576, 163.07999999999998, 'X[10] <= 9.35\\nmse = 0.221\\nsamples = 49\\nvalue = 5.061'),\n",
              " Text(7.308049113233288, 147.54857142857142, 'X[6] <= 55.5\\nmse = 0.25\\nsamples = 6\\nvalue = 4.5'),\n",
              " Text(3.654024556616644, 132.01714285714286, 'mse = 0.0\\nsamples = 3\\nvalue = 4.0'),\n",
              " Text(10.962073669849932, 132.01714285714286, 'mse = 0.0\\nsamples = 3\\nvalue = 5.0'),\n",
              " Text(21.924147339699864, 147.54857142857142, 'X[1] <= 0.315\\nmse = 0.167\\nsamples = 43\\nvalue = 5.14'),\n",
              " Text(18.27012278308322, 132.01714285714286, 'mse = 0.0\\nsamples = 2\\nvalue = 6.0'),\n",
              " Text(25.57817189631651, 132.01714285714286, 'X[8] <= 3.275\\nmse = 0.137\\nsamples = 41\\nvalue = 5.098'),\n",
              " Text(16.4431105047749, 116.48571428571428, 'X[6] <= 58.5\\nmse = 0.213\\nsamples = 13\\nvalue = 5.308'),\n",
              " Text(12.789085948158254, 100.9542857142857, 'X[9] <= 0.43\\nmse = 0.09\\nsamples = 10\\nvalue = 5.1'),\n",
              " Text(9.13506139154161, 85.42285714285714, 'mse = 0.0\\nsamples = 1\\nvalue = 6.0'),\n",
              " Text(16.4431105047749, 85.42285714285714, 'mse = 0.0\\nsamples = 9\\nvalue = 5.0'),\n",
              " Text(20.09713506139154, 100.9542857142857, 'mse = 0.0\\nsamples = 3\\nvalue = 6.0'),\n",
              " Text(34.71323328785812, 116.48571428571428, 'X[4] <= 0.068\\nmse = 0.071\\nsamples = 28\\nvalue = 5.0'),\n",
              " Text(27.40518417462483, 100.9542857142857, 'X[0] <= 7.05\\nmse = 0.222\\nsamples = 3\\nvalue = 4.667'),\n",
              " Text(23.751159618008188, 85.42285714285714, 'mse = 0.0\\nsamples = 2\\nvalue = 5.0'),\n",
              " Text(31.059208731241476, 85.42285714285714, 'mse = 0.0\\nsamples = 1\\nvalue = 4.0'),\n",
              " Text(42.021282401091405, 100.9542857142857, 'X[1] <= 0.575\\nmse = 0.038\\nsamples = 25\\nvalue = 5.04'),\n",
              " Text(38.367257844474764, 85.42285714285714, 'X[2] <= 0.185\\nmse = 0.16\\nsamples = 5\\nvalue = 5.2'),\n",
              " Text(34.71323328785812, 69.89142857142858, 'mse = 0.0\\nsamples = 1\\nvalue = 6.0'),\n",
              " Text(42.021282401091405, 69.89142857142858, 'mse = 0.0\\nsamples = 4\\nvalue = 5.0'),\n",
              " Text(45.67530695770805, 85.42285714285714, 'mse = 0.0\\nsamples = 20\\nvalue = 5.0'),\n",
              " Text(32.8862210095498, 163.07999999999998, 'X[5] <= 15.5\\nmse = 1.0\\nsamples = 2\\nvalue = 4.0'),\n",
              " Text(29.232196452933152, 147.54857142857142, 'mse = 0.0\\nsamples = 1\\nvalue = 5.0'),\n",
              " Text(36.54024556616644, 147.54857142857142, 'mse = 0.0\\nsamples = 1\\nvalue = 3.0'),\n",
              " Text(104.59645293315144, 178.61142857142858, 'X[6] <= 46.5\\nmse = 0.323\\nsamples = 107\\nvalue = 5.458'),\n",
              " Text(84.95607094133698, 163.07999999999998, 'X[3] <= 3.45\\nmse = 0.328\\nsamples = 52\\nvalue = 5.692'),\n",
              " Text(73.08049113233288, 147.54857142857142, 'X[1] <= 0.565\\nmse = 0.273\\nsamples = 49\\nvalue = 5.633'),\n",
              " Text(60.29140518417463, 132.01714285714286, 'X[3] <= 1.55\\nmse = 0.225\\nsamples = 27\\nvalue = 5.815'),\n",
              " Text(56.63738062755798, 116.48571428571428, 'mse = 0.0\\nsamples = 2\\nvalue = 5.0'),\n",
              " Text(63.94542974079127, 116.48571428571428, 'X[5] <= 9.5\\nmse = 0.186\\nsamples = 25\\nvalue = 5.88'),\n",
              " Text(56.63738062755798, 100.9542857142857, 'X[7] <= 0.999\\nmse = 0.231\\nsamples = 11\\nvalue = 5.636'),\n",
              " Text(52.98335607094134, 85.42285714285714, 'X[7] <= 0.996\\nmse = 0.222\\nsamples = 6\\nvalue = 5.333'),\n",
              " Text(49.32933151432469, 69.89142857142858, 'mse = 0.0\\nsamples = 2\\nvalue = 6.0'),\n",
              " Text(56.63738062755798, 69.89142857142858, 'mse = 0.0\\nsamples = 4\\nvalue = 5.0'),\n",
              " Text(60.29140518417463, 85.42285714285714, 'mse = 0.0\\nsamples = 5\\nvalue = 6.0'),\n",
              " Text(71.25347885402456, 100.9542857142857, 'X[2] <= 0.17\\nmse = 0.066\\nsamples = 14\\nvalue = 6.071'),\n",
              " Text(67.59945429740792, 85.42285714285714, 'mse = 0.0\\nsamples = 1\\nvalue = 7.0'),\n",
              " Text(74.9075034106412, 85.42285714285714, 'mse = 0.0\\nsamples = 13\\nvalue = 6.0'),\n",
              " Text(85.86957708049114, 132.01714285714286, 'X[6] <= 22.5\\nmse = 0.242\\nsamples = 22\\nvalue = 5.409'),\n",
              " Text(82.21555252387449, 116.48571428571428, 'mse = 0.0\\nsamples = 6\\nvalue = 5.0'),\n",
              " Text(89.52360163710777, 116.48571428571428, 'X[7] <= 0.998\\nmse = 0.246\\nsamples = 16\\nvalue = 5.562'),\n",
              " Text(85.86957708049114, 100.9542857142857, 'X[0] <= 7.35\\nmse = 0.188\\nsamples = 12\\nvalue = 5.75'),\n",
              " Text(82.21555252387449, 85.42285714285714, 'mse = 0.0\\nsamples = 6\\nvalue = 6.0'),\n",
              " Text(89.52360163710777, 85.42285714285714, 'X[5] <= 11.0\\nmse = 0.25\\nsamples = 6\\nvalue = 5.5'),\n",
              " Text(85.86957708049114, 69.89142857142858, 'mse = 0.0\\nsamples = 2\\nvalue = 6.0'),\n",
              " Text(93.17762619372442, 69.89142857142858, 'X[5] <= 18.5\\nmse = 0.188\\nsamples = 4\\nvalue = 5.25'),\n",
              " Text(89.52360163710777, 54.359999999999985, 'mse = 0.0\\nsamples = 3\\nvalue = 5.0'),\n",
              " Text(96.83165075034107, 54.359999999999985, 'mse = 0.0\\nsamples = 1\\nvalue = 6.0'),\n",
              " Text(93.17762619372442, 100.9542857142857, 'mse = 0.0\\nsamples = 4\\nvalue = 5.0'),\n",
              " Text(96.83165075034107, 147.54857142857142, 'X[1] <= 0.225\\nmse = 0.222\\nsamples = 3\\nvalue = 6.667'),\n",
              " Text(93.17762619372442, 132.01714285714286, 'mse = 0.0\\nsamples = 1\\nvalue = 6.0'),\n",
              " Text(100.48567530695772, 132.01714285714286, 'mse = 0.0\\nsamples = 2\\nvalue = 7.0'),\n",
              " Text(124.2368349249659, 163.07999999999998, 'X[1] <= 0.415\\nmse = 0.217\\nsamples = 55\\nvalue = 5.236'),\n",
              " Text(111.44774897680765, 147.54857142857142, 'X[7] <= 0.998\\nmse = 0.222\\nsamples = 9\\nvalue = 5.667'),\n",
              " Text(107.793724420191, 132.01714285714286, 'mse = 0.0\\nsamples = 5\\nvalue = 6.0'),\n",
              " Text(115.10177353342429, 132.01714285714286, 'X[0] <= 10.35\\nmse = 0.188\\nsamples = 4\\nvalue = 5.25'),\n",
              " Text(111.44774897680765, 116.48571428571428, 'mse = 0.0\\nsamples = 3\\nvalue = 5.0'),\n",
              " Text(118.75579809004093, 116.48571428571428, 'mse = 0.0\\nsamples = 1\\nvalue = 6.0'),\n",
              " Text(137.02592087312416, 147.54857142857142, 'X[6] <= 79.0\\nmse = 0.172\\nsamples = 46\\nvalue = 5.152'),\n",
              " Text(129.71787175989087, 132.01714285714286, 'X[7] <= 1.0\\nmse = 0.091\\nsamples = 22\\nvalue = 5.0'),\n",
              " Text(126.06384720327422, 116.48571428571428, 'X[10] <= 9.25\\nmse = 0.045\\nsamples = 21\\nvalue = 5.048'),\n",
              " Text(122.40982264665757, 100.9542857142857, 'X[7] <= 0.997\\nmse = 0.222\\nsamples = 3\\nvalue = 5.333'),\n",
              " Text(118.75579809004093, 85.42285714285714, 'mse = 0.0\\nsamples = 2\\nvalue = 5.0'),\n",
              " Text(126.06384720327422, 85.42285714285714, 'mse = 0.0\\nsamples = 1\\nvalue = 6.0'),\n",
              " Text(129.71787175989087, 100.9542857142857, 'mse = 0.0\\nsamples = 18\\nvalue = 5.0'),\n",
              " Text(133.3718963165075, 116.48571428571428, 'mse = 0.0\\nsamples = 1\\nvalue = 4.0'),\n",
              " Text(144.33396998635743, 132.01714285714286, 'X[10] <= 9.45\\nmse = 0.207\\nsamples = 24\\nvalue = 5.292'),\n",
              " Text(140.6799454297408, 116.48571428571428, 'mse = 0.0\\nsamples = 9\\nvalue = 5.0'),\n",
              " Text(147.9879945429741, 116.48571428571428, 'X[3] <= 2.3\\nmse = 0.249\\nsamples = 15\\nvalue = 5.467'),\n",
              " Text(140.6799454297408, 100.9542857142857, 'X[6] <= 112.0\\nmse = 0.139\\nsamples = 6\\nvalue = 5.833'),\n",
              " Text(137.02592087312416, 85.42285714285714, 'mse = 0.0\\nsamples = 5\\nvalue = 6.0'),\n",
              " Text(144.33396998635743, 85.42285714285714, 'mse = 0.0\\nsamples = 1\\nvalue = 5.0'),\n",
              " Text(155.29604365620736, 100.9542857142857, 'X[2] <= 0.385\\nmse = 0.173\\nsamples = 9\\nvalue = 5.222'),\n",
              " Text(151.64201909959073, 85.42285714285714, 'X[1] <= 0.49\\nmse = 0.109\\nsamples = 8\\nvalue = 5.125'),\n",
              " Text(147.9879945429741, 69.89142857142858, 'X[10] <= 9.6\\nmse = 0.25\\nsamples = 2\\nvalue = 5.5'),\n",
              " Text(144.33396998635743, 54.359999999999985, 'mse = 0.0\\nsamples = 1\\nvalue = 6.0'),\n",
              " Text(151.64201909959073, 54.359999999999985, 'mse = 0.0\\nsamples = 1\\nvalue = 5.0'),\n",
              " Text(155.29604365620736, 69.89142857142858, 'mse = 0.0\\nsamples = 6\\nvalue = 5.0'),\n",
              " Text(158.95006821282402, 85.42285714285714, 'mse = 0.0\\nsamples = 1\\nvalue = 6.0'),\n",
              " Text(239.66689972714872, 194.14285714285714, 'X[1] <= 0.355\\nmse = 0.546\\nsamples = 162\\nvalue = 6.056'),\n",
              " Text(198.68758526603003, 178.61142857142858, 'X[8] <= 3.385\\nmse = 0.529\\nsamples = 43\\nvalue = 6.512'),\n",
              " Text(187.268758526603, 163.07999999999998, 'X[0] <= 10.35\\nmse = 0.327\\nsamples = 37\\nvalue = 6.676'),\n",
              " Text(175.39317871759891, 147.54857142857142, 'X[4] <= 0.067\\nmse = 0.248\\nsamples = 31\\nvalue = 6.548'),\n",
              " Text(162.60409276944065, 132.01714285714286, 'X[1] <= 0.19\\nmse = 0.13\\nsamples = 13\\nvalue = 6.846'),\n",
              " Text(158.95006821282402, 116.48571428571428, 'mse = 0.0\\nsamples = 1\\nvalue = 6.0'),\n",
              " Text(166.25811732605732, 116.48571428571428, 'X[1] <= 0.345\\nmse = 0.076\\nsamples = 12\\nvalue = 6.917'),\n",
              " Text(162.60409276944065, 100.9542857142857, 'mse = 0.0\\nsamples = 11\\nvalue = 7.0'),\n",
              " Text(169.91214188267395, 100.9542857142857, 'mse = 0.0\\nsamples = 1\\nvalue = 6.0'),\n",
              " Text(188.18226466575717, 132.01714285714286, 'X[8] <= 3.285\\nmse = 0.222\\nsamples = 18\\nvalue = 6.333'),\n",
              " Text(180.87421555252388, 116.48571428571428, 'X[7] <= 0.995\\nmse = 0.09\\nsamples = 10\\nvalue = 6.1'),\n",
              " Text(177.22019099590725, 100.9542857142857, 'mse = 0.0\\nsamples = 1\\nvalue = 7.0'),\n",
              " Text(184.5282401091405, 100.9542857142857, 'mse = 0.0\\nsamples = 9\\nvalue = 6.0'),\n",
              " Text(195.49031377899047, 116.48571428571428, 'X[0] <= 8.1\\nmse = 0.234\\nsamples = 8\\nvalue = 6.625'),\n",
              " Text(191.8362892223738, 100.9542857142857, 'mse = 0.0\\nsamples = 3\\nvalue = 6.0'),\n",
              " Text(199.1443383356071, 100.9542857142857, 'mse = 0.0\\nsamples = 5\\nvalue = 7.0'),\n",
              " Text(199.1443383356071, 147.54857142857142, 'X[1] <= 0.34\\nmse = 0.222\\nsamples = 6\\nvalue = 7.333'),\n",
              " Text(195.49031377899047, 132.01714285714286, 'mse = 0.0\\nsamples = 4\\nvalue = 7.0'),\n",
              " Text(202.79836289222374, 132.01714285714286, 'mse = 0.0\\nsamples = 2\\nvalue = 8.0'),\n",
              " Text(210.10641200545703, 163.07999999999998, 'X[9] <= 0.725\\nmse = 0.583\\nsamples = 6\\nvalue = 5.5'),\n",
              " Text(206.4523874488404, 147.54857142857142, 'mse = 0.0\\nsamples = 4\\nvalue = 5.0'),\n",
              " Text(213.76043656207366, 147.54857142857142, 'X[6] <= 50.0\\nmse = 0.25\\nsamples = 2\\nvalue = 6.5'),\n",
              " Text(210.10641200545703, 132.01714285714286, 'mse = 0.0\\nsamples = 1\\nvalue = 7.0'),\n",
              " Text(217.41446111869033, 132.01714285714286, 'mse = 0.0\\nsamples = 1\\nvalue = 6.0'),\n",
              " Text(280.6462141882674, 178.61142857142858, 'X[9] <= 0.675\\nmse = 0.45\\nsamples = 119\\nvalue = 5.891'),\n",
              " Text(259.3786493860846, 163.07999999999998, 'X[6] <= 80.0\\nmse = 0.406\\nsamples = 77\\nvalue = 5.727'),\n",
              " Text(246.07571623465213, 147.54857142857142, 'X[4] <= 0.122\\nmse = 0.366\\nsamples = 74\\nvalue = 5.77'),\n",
              " Text(230.43192360163712, 132.01714285714286, 'X[10] <= 11.55\\nmse = 0.323\\nsamples = 72\\nvalue = 5.806'),\n",
              " Text(210.10641200545703, 116.48571428571428, 'X[2] <= 0.655\\nmse = 0.282\\nsamples = 52\\nvalue = 5.712'),\n",
              " Text(206.4523874488404, 100.9542857142857, 'X[1] <= 0.435\\nmse = 0.255\\nsamples = 51\\nvalue = 5.686'),\n",
              " Text(186.81200545702592, 85.42285714285714, 'X[10] <= 11.05\\nmse = 0.21\\nsamples = 10\\nvalue = 5.3'),\n",
              " Text(183.15798090040929, 69.89142857142858, 'mse = 0.0\\nsamples = 6\\nvalue = 5.0'),\n",
              " Text(190.46603001364258, 69.89142857142858, 'X[7] <= 0.996\\nmse = 0.188\\nsamples = 4\\nvalue = 5.75'),\n",
              " Text(186.81200545702592, 54.359999999999985, 'mse = 0.0\\nsamples = 1\\nvalue = 5.0'),\n",
              " Text(194.1200545702592, 54.359999999999985, 'mse = 0.0\\nsamples = 3\\nvalue = 6.0'),\n",
              " Text(226.09276944065485, 85.42285714285714, 'X[8] <= 3.435\\nmse = 0.22\\nsamples = 41\\nvalue = 5.78'),\n",
              " Text(210.5631650750341, 69.89142857142858, 'X[6] <= 13.0\\nmse = 0.147\\nsamples = 32\\nvalue = 5.906'),\n",
              " Text(201.4281036834925, 54.359999999999985, 'X[4] <= 0.11\\nmse = 0.222\\nsamples = 3\\nvalue = 5.333'),\n",
              " Text(197.77407912687585, 38.82857142857142, 'mse = 0.0\\nsamples = 2\\nvalue = 5.0'),\n",
              " Text(205.08212824010914, 38.82857142857142, 'mse = 0.0\\nsamples = 1\\nvalue = 6.0'),\n",
              " Text(219.69822646657573, 54.359999999999985, 'X[0] <= 7.05\\nmse = 0.102\\nsamples = 29\\nvalue = 5.966'),\n",
              " Text(212.39017735334244, 38.82857142857142, 'X[10] <= 10.5\\nmse = 0.222\\nsamples = 6\\nvalue = 5.667'),\n",
              " Text(208.7361527967258, 23.29714285714286, 'X[3] <= 2.15\\nmse = 0.222\\nsamples = 3\\nvalue = 5.333'),\n",
              " Text(205.08212824010914, 7.765714285714267, 'mse = 0.0\\nsamples = 2\\nvalue = 5.0'),\n",
              " Text(212.39017735334244, 7.765714285714267, 'mse = 0.0\\nsamples = 1\\nvalue = 6.0'),\n",
              " Text(216.04420190995907, 23.29714285714286, 'mse = 0.0\\nsamples = 3\\nvalue = 6.0'),\n",
              " Text(227.006275579809, 38.82857142857142, 'X[7] <= 0.995\\nmse = 0.042\\nsamples = 23\\nvalue = 6.043'),\n",
              " Text(223.35225102319237, 23.29714285714286, 'X[7] <= 0.995\\nmse = 0.25\\nsamples = 2\\nvalue = 6.5'),\n",
              " Text(219.69822646657573, 7.765714285714267, 'mse = 0.0\\nsamples = 1\\nvalue = 6.0'),\n",
              " Text(227.006275579809, 7.765714285714267, 'mse = 0.0\\nsamples = 1\\nvalue = 7.0'),\n",
              " Text(230.66030013642566, 23.29714285714286, 'mse = 0.0\\nsamples = 21\\nvalue = 6.0'),\n",
              " Text(241.6223738062756, 69.89142857142858, 'X[4] <= 0.073\\nmse = 0.222\\nsamples = 9\\nvalue = 5.333'),\n",
              " Text(237.96834924965896, 54.359999999999985, 'X[5] <= 6.0\\nmse = 0.188\\nsamples = 4\\nvalue = 5.75'),\n",
              " Text(234.3143246930423, 38.82857142857142, 'mse = 0.0\\nsamples = 1\\nvalue = 5.0'),\n",
              " Text(241.6223738062756, 38.82857142857142, 'mse = 0.0\\nsamples = 3\\nvalue = 6.0'),\n",
              " Text(245.27639836289222, 54.359999999999985, 'mse = 0.0\\nsamples = 5\\nvalue = 5.0'),\n",
              " Text(213.76043656207366, 100.9542857142857, 'mse = 0.0\\nsamples = 1\\nvalue = 7.0'),\n",
              " Text(250.7574351978172, 116.48571428571428, 'X[7] <= 0.994\\nmse = 0.348\\nsamples = 20\\nvalue = 6.05'),\n",
              " Text(241.6223738062756, 100.9542857142857, 'X[9] <= 0.595\\nmse = 0.25\\nsamples = 6\\nvalue = 5.5'),\n",
              " Text(237.96834924965896, 85.42285714285714, 'mse = 0.0\\nsamples = 3\\nvalue = 5.0'),\n",
              " Text(245.27639836289222, 85.42285714285714, 'mse = 0.0\\nsamples = 3\\nvalue = 6.0'),\n",
              " Text(259.8924965893588, 100.9542857142857, 'X[6] <= 17.5\\nmse = 0.204\\nsamples = 14\\nvalue = 6.286'),\n",
              " Text(252.58444747612552, 85.42285714285714, 'X[4] <= 0.084\\nmse = 0.188\\nsamples = 4\\nvalue = 6.75'),\n",
              " Text(248.93042291950889, 69.89142857142858, 'mse = 0.0\\nsamples = 1\\nvalue = 6.0'),\n",
              " Text(256.23847203274215, 69.89142857142858, 'mse = 0.0\\nsamples = 3\\nvalue = 7.0'),\n",
              " Text(267.2005457025921, 85.42285714285714, 'X[4] <= 0.062\\nmse = 0.09\\nsamples = 10\\nvalue = 6.1'),\n",
              " Text(263.5465211459755, 69.89142857142858, 'mse = 0.0\\nsamples = 1\\nvalue = 7.0'),\n",
              " Text(270.85457025920874, 69.89142857142858, 'mse = 0.0\\nsamples = 9\\nvalue = 6.0'),\n",
              " Text(261.7195088676671, 132.01714285714286, 'X[1] <= 0.707\\nmse = 0.25\\nsamples = 2\\nvalue = 4.5'),\n",
              " Text(258.0654843110505, 116.48571428571428, 'mse = 0.0\\nsamples = 1\\nvalue = 4.0'),\n",
              " Text(265.3735334242838, 116.48571428571428, 'mse = 0.0\\nsamples = 1\\nvalue = 5.0'),\n",
              " Text(272.68158253751704, 147.54857142857142, 'X[5] <= 21.5\\nmse = 0.222\\nsamples = 3\\nvalue = 4.667'),\n",
              " Text(269.02755798090044, 132.01714285714286, 'mse = 0.0\\nsamples = 1\\nvalue = 4.0'),\n",
              " Text(276.3356070941337, 132.01714285714286, 'mse = 0.0\\nsamples = 2\\nvalue = 5.0'),\n",
              " Text(301.9137789904502, 163.07999999999998, 'X[0] <= 14.3\\nmse = 0.392\\nsamples = 42\\nvalue = 6.19'),\n",
              " Text(298.25975443383356, 147.54857142857142, 'X[10] <= 11.25\\nmse = 0.337\\nsamples = 40\\nvalue = 6.25'),\n",
              " Text(283.643656207367, 132.01714285714286, 'X[4] <= 0.071\\nmse = 0.286\\nsamples = 21\\nvalue = 6.0'),\n",
              " Text(276.3356070941337, 116.48571428571428, 'X[9] <= 0.78\\nmse = 0.222\\nsamples = 3\\nvalue = 6.667'),\n",
              " Text(272.68158253751704, 100.9542857142857, 'mse = 0.0\\nsamples = 1\\nvalue = 6.0'),\n",
              " Text(279.98963165075037, 100.9542857142857, 'mse = 0.0\\nsamples = 2\\nvalue = 7.0'),\n",
              " Text(290.9517053206003, 116.48571428571428, 'X[3] <= 5.2\\nmse = 0.21\\nsamples = 18\\nvalue = 5.889'),\n",
              " Text(287.29768076398364, 100.9542857142857, 'X[0] <= 6.75\\nmse = 0.145\\nsamples = 17\\nvalue = 5.824'),\n",
              " Text(283.643656207367, 85.42285714285714, 'mse = 0.0\\nsamples = 1\\nvalue = 5.0'),\n",
              " Text(290.9517053206003, 85.42285714285714, 'X[6] <= 16.5\\nmse = 0.109\\nsamples = 16\\nvalue = 5.875'),\n",
              " Text(287.29768076398364, 69.89142857142858, 'mse = 0.0\\nsamples = 1\\nvalue = 5.0'),\n",
              " Text(294.6057298772169, 69.89142857142858, 'X[6] <= 92.5\\nmse = 0.062\\nsamples = 15\\nvalue = 5.933'),\n",
              " Text(290.9517053206003, 54.359999999999985, 'mse = 0.0\\nsamples = 14\\nvalue = 6.0'),\n",
              " Text(298.25975443383356, 54.359999999999985, 'mse = 0.0\\nsamples = 1\\nvalue = 5.0'),\n",
              " Text(294.6057298772169, 100.9542857142857, 'mse = 0.0\\nsamples = 1\\nvalue = 7.0'),\n",
              " Text(312.87585266030015, 132.01714285714286, 'X[2] <= 0.425\\nmse = 0.249\\nsamples = 19\\nvalue = 6.526'),\n",
              " Text(305.56780354706683, 116.48571428571428, 'X[3] <= 1.9\\nmse = 0.109\\nsamples = 8\\nvalue = 6.875'),\n",
              " Text(301.9137789904502, 100.9542857142857, 'mse = 0.0\\nsamples = 1\\nvalue = 6.0'),\n",
              " Text(309.2218281036835, 100.9542857142857, 'mse = 0.0\\nsamples = 7\\nvalue = 7.0'),\n",
              " Text(320.1839017735334, 116.48571428571428, 'X[2] <= 0.495\\nmse = 0.198\\nsamples = 11\\nvalue = 6.273'),\n",
              " Text(316.5298772169168, 100.9542857142857, 'mse = 0.0\\nsamples = 5\\nvalue = 6.0'),\n",
              " Text(323.8379263301501, 100.9542857142857, 'X[7] <= 0.995\\nmse = 0.25\\nsamples = 6\\nvalue = 6.5'),\n",
              " Text(320.1839017735334, 85.42285714285714, 'mse = 0.0\\nsamples = 2\\nvalue = 6.0'),\n",
              " Text(327.49195088676674, 85.42285714285714, 'X[9] <= 0.995\\nmse = 0.188\\nsamples = 4\\nvalue = 6.75'),\n",
              " Text(323.8379263301501, 69.89142857142858, 'mse = 0.0\\nsamples = 3\\nvalue = 7.0'),\n",
              " Text(331.14597544338335, 69.89142857142858, 'mse = 0.0\\nsamples = 1\\nvalue = 6.0'),\n",
              " Text(305.56780354706683, 147.54857142857142, 'mse = 0.0\\nsamples = 2\\nvalue = 5.0')]"
            ]
          },
          "metadata": {},
          "execution_count": 26
        },
        {
          "output_type": "display_data",
          "data": {
            "image/png": "[encoded data removed]",
            "text/plain": [
              "<Figure size 432x288 with 1 Axes>"
            ]
          },
          "metadata": {
            "needs_background": "light"
          }
        }
      ]
    },
    {
      "cell_type": "code",
      "metadata": {
        "id": "7QDjUeiyOt53",
        "outputId": "bb41b7f4-73e5-4efe-af9c-8b9f75a38a58",
        "colab": {
          "base_uri": "https://localhost:8080/",
          "height": 376
        }
      },
      "source": [
        "# decision tree with some kind of parameter that (hopefully) results in a smaller tree\n",
        "regular = tree.DecisionTreeRegressor(random_state=10, max_depth=2)\n",
        "regular = regular.fit(test_data, test_sln)\n",
        "tree.plot_tree(regular)"
      ],
      "execution_count": 27,
      "outputs": [
        {
          "output_type": "execute_result",
          "data": {
            "text/plain": [
              "[Text(167.4, 181.2, 'X[10] <= 10.15\\nmse = 0.589\\nsamples = 320\\nvalue = 5.691'),\n",
              " Text(83.7, 108.72, 'X[9] <= 0.555\\nmse = 0.356\\nsamples = 158\\nvalue = 5.316'),\n",
              " Text(41.85, 36.23999999999998, 'mse = 0.294\\nsamples = 51\\nvalue = 5.02'),\n",
              " Text(125.55000000000001, 36.23999999999998, 'mse = 0.323\\nsamples = 107\\nvalue = 5.458'),\n",
              " Text(251.10000000000002, 108.72, 'X[1] <= 0.355\\nmse = 0.546\\nsamples = 162\\nvalue = 6.056'),\n",
              " Text(209.25, 36.23999999999998, 'mse = 0.529\\nsamples = 43\\nvalue = 6.512'),\n",
              " Text(292.95, 36.23999999999998, 'mse = 0.45\\nsamples = 119\\nvalue = 5.891')]"
            ]
          },
          "metadata": {},
          "execution_count": 27
        },
        {
          "output_type": "display_data",
          "data": {
            "image/png": "[encoded data removed]",
            "text/plain": [
              "<Figure size 432x288 with 1 Axes>"
            ]
          },
          "metadata": {
            "needs_background": "light"
          }
        }
      ]
    },
    {
      "cell_type": "markdown",
      "metadata": {
        "id": "O_1BW2sPPNro"
      },
      "source": [
        "## Part 2: kNN on Normalized data\n",
        "**2.)** Normalize the data and run a k-Nearest-Neighbor algorithm on it. (use the StandardScalar from sklearn)"
      ]
    },
    {
      "cell_type": "code",
      "metadata": {
        "id": "Y1-4z4VHOxBt",
        "outputId": "dc4592e1-9fe6-4f52-e34c-54234b3c4002",
        "colab": {
          "base_uri": "https://localhost:8080/"
        }
      },
      "source": [
        "# normalize the data\n",
        "from sklearn.preprocessing import StandardScaler\n",
        "scaler = StandardScaler()\n",
        "scaler.fit(train_data)\n",
        "train_data_normalize = scaler.transform(train_data)\n",
        "test_data_normalize = scaler.transform(test_data)\n",
        "\n",
        "# run a knn\n",
        "from sklearn.neighbors import KNeighborsRegressor\n",
        "knn1 = KNeighborsRegressor(n_neighbors = 3)\n",
        "knn1.fit(train_data_normalize, train_sln)\n",
        "prediction = knn1.predict(test_data_normalize)\n",
        "from sklearn.metrics import mean_squared_error\n",
        "mean_squared_error(test_sln, prediction)"
      ],
      "execution_count": 29,
      "outputs": [
        {
          "output_type": "execute_result",
          "data": {
            "text/plain": [
              "0.47951388888888885"
            ]
          },
          "metadata": {},
          "execution_count": 29
        }
      ]
    },
    {
      "cell_type": "markdown",
      "metadata": {
        "id": "28SLxo80PckN"
      },
      "source": [
        "## Part 3:\n",
        "**3.)**Use a Markup cell to answer the following questions:\n",
        "\n",
        "- What algorithm performed better? kNN or Decision Trees? Why do you think this was the case?\n",
        "- What effect did normalizing the data have on your results? Explain."
      ]
    },
    {
      "cell_type": "markdown",
      "metadata": {
        "id": "8VlbwA045whd"
      },
      "source": [
        "The weighted kNN algorithm with a lot of neighbors performed the best. This makes sense to me because were working with regressions which works better with kNN. Normalizing the data found the z-score of hte data, making the data points that weere further away more meaningful. It did turn a better score than the original kNN1."
      ]
    }
  ]
}